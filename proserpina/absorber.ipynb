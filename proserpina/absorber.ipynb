{
 "cells": [
  {
   "cell_type": "markdown",
   "id": "858d8669-aac3-4f7c-9110-94b133310c10",
   "metadata": {},
   "source": [
    "# Attack via private adversarial forks"
   ]
  },
  {
   "cell_type": "markdown",
   "id": "d3e66924-6b75-4e47-a125-98c6055bf22c",
   "metadata": {},
   "source": [
    "## Theory"
   ]
  },
  {
   "cell_type": "markdown",
   "id": "9999c297-dff1-4511-b45f-aa025d5b3362",
   "metadata": {},
   "source": [
    "### Active slot coefficient"
   ]
  },
  {
   "cell_type": "code",
   "execution_count": 1,
   "id": "f15a6422-9357-4999-9242-3e4063d50598",
   "metadata": {
    "tags": []
   },
   "outputs": [
    {
     "data": {
      "text/html": [
       "0.05"
      ],
      "text/latex": [
       "0.05"
      ],
      "text/markdown": [
       "0.05"
      ],
      "text/plain": [
       "[1] 0.05"
      ]
     },
     "metadata": {},
     "output_type": "display_data"
    }
   ],
   "source": [
    "f <- 1 / 20\n",
    "f"
   ]
  },
  {
   "cell_type": "markdown",
   "id": "b48ab17a-07a7-479a-b222-f51aff0c211d",
   "metadata": {},
   "source": [
    "### Honest and adversarial stake"
   ]
  },
  {
   "cell_type": "code",
   "execution_count": 2,
   "id": "285233f8-7fa2-4cf3-a8c9-87c00983d356",
   "metadata": {
    "tags": []
   },
   "outputs": [
    {
     "data": {
      "text/html": [
       "<style>\n",
       ".list-inline {list-style: none; margin:0; padding: 0}\n",
       ".list-inline>li {display: inline-block}\n",
       ".list-inline>li:not(:last-child)::after {content: \"\\00b7\"; padding: 0 .5ex}\n",
       "</style>\n",
       "<ol class=list-inline><li>0.555555555555556</li><li>0.444444444444444</li></ol>\n"
      ],
      "text/latex": [
       "\\begin{enumerate*}\n",
       "\\item 0.555555555555556\n",
       "\\item 0.444444444444444\n",
       "\\end{enumerate*}\n"
      ],
      "text/markdown": [
       "1. 0.555555555555556\n",
       "2. 0.444444444444444\n",
       "\n",
       "\n"
      ],
      "text/plain": [
       "[1] 0.5555556 0.4444444"
      ]
     },
     "metadata": {},
     "output_type": "display_data"
    }
   ],
   "source": [
    "q <- 4 / 9\n",
    "p <- 1 - q\n",
    "c(p, q)"
   ]
  },
  {
   "cell_type": "markdown",
   "id": "c683c270-55a1-4cb5-ba20-2d2d06430da5",
   "metadata": {
    "tags": []
   },
   "source": [
    "### Probability of adversarial success\n",
    "\n",
    "Let's analyze the following scenario, where the honest party has $p$ of the stake and the adversary has $q$ of the stake:\n",
    "\n",
    "1. Adversary isolates their nodes from the honest ones.\n",
    "2. Adversary builds a private fork.\n",
    "3. If the honest fork becomes $m$ blocks longer than the private adversarial fork, then the adversary gives up.\n",
    "4. If the private adversarial fork becomes $n$ blocks longer than the honest fork, then the adversary rejoins the honest network, revealing their longer chain to the honest parties, who are compelled to adopt it in favor of their shorter honest fork.\n",
    "\n",
    "This is the \"random walk with absorbers\" problem. The probability of adversarial success is:\n",
    "\n",
    "$$\n",
    "\\frac{1 - (p / q)^m}{1 - (p / q)^{m+n}}\n",
    "$$"
   ]
  },
  {
   "cell_type": "code",
   "execution_count": 3,
   "id": "55f8b00a-e184-4776-949c-90a4007a9d5b",
   "metadata": {
    "tags": []
   },
   "outputs": [],
   "source": [
    "absorber <- function(q, p, m, n) {\n",
    "    r <- q / p\n",
    "    (1 - r^m) / (1 - r^(m + n))\n",
    "}"
   ]
  },
  {
   "cell_type": "markdown",
   "id": "80f8299c-0cbf-4417-b7e9-f296e73395ee",
   "metadata": {},
   "source": [
    "## Experiment\n",
    "\n",
    "We run the script [absorber.sh](absorber.sh) with $m = 2$ and $n = 10$. It took 24 hours to run this experiment, which generated about 14,000 blocks.\n",
    "\n",
    "We measure the following statistics:"
   ]
  },
  {
   "cell_type": "code",
   "execution_count": 4,
   "id": "9e26817b-2125-47ec-9ea0-68e03cc4a4d5",
   "metadata": {
    "tags": []
   },
   "outputs": [
    {
     "data": {
      "text/html": [
       "<style>\n",
       ".list-inline {list-style: none; margin:0; padding: 0}\n",
       ".list-inline>li {display: inline-block}\n",
       ".list-inline>li:not(:last-child)::after {content: \"\\00b7\"; padding: 0 .5ex}\n",
       "</style>\n",
       "<ol class=list-inline><li>0.0398576512455516</li><li>0.960142348754448</li></ol>\n"
      ],
      "text/latex": [
       "\\begin{enumerate*}\n",
       "\\item 0.0398576512455516\n",
       "\\item 0.960142348754448\n",
       "\\end{enumerate*}\n"
      ],
      "text/markdown": [
       "1. 0.0398576512455516\n",
       "2. 0.960142348754448\n",
       "\n",
       "\n"
      ],
      "text/plain": [
       "[1] 0.03985765 0.96014235"
      ]
     },
     "metadata": {},
     "output_type": "display_data"
    }
   ],
   "source": [
    "n_success <- 56\n",
    "n_failure <- 1349\n",
    "c(n_success, n_failure) / (n_success + n_failure)"
   ]
  },
  {
   "cell_type": "markdown",
   "id": "17c43198-aa7d-491d-a406-95e725703d80",
   "metadata": {},
   "source": [
    "Theoretically, we have:"
   ]
  },
  {
   "cell_type": "code",
   "execution_count": 5,
   "id": "12f9844f-3fc6-4143-9195-1931912afc1e",
   "metadata": {
    "tags": []
   },
   "outputs": [
    {
     "data": {
      "text/html": [
       "0.0415070483043294"
      ],
      "text/latex": [
       "0.0415070483043294"
      ],
      "text/markdown": [
       "0.0415070483043294"
      ],
      "text/plain": [
       "[1] 0.04150705"
      ]
     },
     "metadata": {},
     "output_type": "display_data"
    }
   ],
   "source": [
    "p_success <- absorber(p, q, 2, 10)\n",
    "p_success"
   ]
  },
  {
   "cell_type": "markdown",
   "id": "4150e6d2-07c5-4e93-a91d-8099ab207be2",
   "metadata": {},
   "source": [
    "### Chi-squared test\n",
    "\n",
    "A chi-squared tests does not reject the null hypothesis that the experiment matches theory."
   ]
  },
  {
   "cell_type": "code",
   "execution_count": 6,
   "id": "416a465a-e461-42b9-b32a-514b661f99c3",
   "metadata": {
    "tags": []
   },
   "outputs": [
    {
     "data": {
      "text/plain": [
       "\n",
       "\tChi-squared test for given probabilities\n",
       "\n",
       "data:  c(n_failure, n_success)\n",
       "X-squared = 0.096076, df = 1, p-value = 0.7566\n"
      ]
     },
     "metadata": {},
     "output_type": "display_data"
    }
   ],
   "source": [
    "chisq.test(c(n_failure, n_success), p=c(1 - p_success, p_success))"
   ]
  }
 ],
 "metadata": {
  "kernelspec": {
   "display_name": "r-minimal kernel",
   "language": "r",
   "name": "r-minimal"
  },
  "language_info": {
   "codemirror_mode": "r",
   "file_extension": ".r",
   "mimetype": "text/x-r-source",
   "name": "R",
   "pygments_lexer": "r",
   "version": "4.2.2"
  }
 },
 "nbformat": 4,
 "nbformat_minor": 5
}
